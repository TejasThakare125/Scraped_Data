{
 "cells": [
  {
   "cell_type": "code",
   "execution_count": 1,
   "id": "cc142f77",
   "metadata": {},
   "outputs": [],
   "source": [
    "from autoscraper import AutoScraper\n"
   ]
  },
  {
   "cell_type": "code",
   "execution_count": 2,
   "id": "ca9033d8",
   "metadata": {},
   "outputs": [],
   "source": [
    "url=\"https://www.tripadvisor.in/Hotel_Review-g297615-d1957763-Reviews-The_Oberoi_Gurgaon-Gurugram_Gurgaon_Gurgaon_District_Haryana.html\"\n",
    "wanted_list=[\"Stay64342653791\",\"Very good\"]"
   ]
  },
  {
   "cell_type": "code",
   "execution_count": null,
   "id": "47e0a4b5",
   "metadata": {},
   "outputs": [],
   "source": []
  },
  {
   "cell_type": "code",
   "execution_count": null,
   "id": "f89eb173",
   "metadata": {},
   "outputs": [],
   "source": []
  },
  {
   "cell_type": "code",
   "execution_count": null,
   "id": "40c44cc4",
   "metadata": {},
   "outputs": [],
   "source": []
  },
  {
   "cell_type": "code",
   "execution_count": null,
   "id": "c5fb152f",
   "metadata": {},
   "outputs": [],
   "source": []
  },
  {
   "cell_type": "code",
   "execution_count": null,
   "id": "dfa55059",
   "metadata": {},
   "outputs": [],
   "source": []
  }
 ],
 "metadata": {
  "kernelspec": {
   "display_name": "Python 3 (ipykernel)",
   "language": "python",
   "name": "python3"
  },
  "language_info": {
   "codemirror_mode": {
    "name": "ipython",
    "version": 3
   },
   "file_extension": ".py",
   "mimetype": "text/x-python",
   "name": "python",
   "nbconvert_exporter": "python",
   "pygments_lexer": "ipython3",
   "version": "3.11.1"
  }
 },
 "nbformat": 4,
 "nbformat_minor": 5
}
