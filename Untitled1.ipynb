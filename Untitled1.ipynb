{
 "cells": [
  {
   "cell_type": "code",
   "execution_count": 1,
   "id": "89a5451f",
   "metadata": {},
   "outputs": [],
   "source": [
    "import requests"
   ]
  },
  {
   "cell_type": "code",
   "execution_count": 2,
   "id": "0643006c",
   "metadata": {},
   "outputs": [],
   "source": [
    "from bs4 import BeautifulSoup as soup"
   ]
  },
  {
   "cell_type": "code",
   "execution_count": 3,
   "id": "5689653e",
   "metadata": {},
   "outputs": [
    {
     "data": {
      "text/plain": [
       "200"
      ]
     },
     "execution_count": 3,
     "metadata": {},
     "output_type": "execute_result"
    }
   ],
   "source": [
    "html=requests.get('https://www.tripadvisor.in/Hotel_Review-g297615-d1957763-Reviews-The_Oberoi_Gurgaon-Gurugram_Gurgaon_Gurgaon_District_Haryana.html')\n",
    "html.status_code"
   ]
  },
  {
   "cell_type": "code",
   "execution_count": 5,
   "id": "36fb1ce8",
   "metadata": {},
   "outputs": [],
   "source": [
    "bsobj= soup(html.content,'lxml')"
   ]
  },
  {
   "cell_type": "code",
   "execution_count": null,
   "id": "a0696718",
   "metadata": {},
   "outputs": [],
   "source": [
    "links=[]\n",
    "for review in bsobj.findAll('a',{'class':'review_content'}):\n",
    "    a=review['href']\n",
    "    a='https://www.tripadvisor.in/'+a\n",
    "    print(a)\n",
    "    print(a.find('Reviews'))\n",
    "    a= a[:(a.find('Reviews')+7)]"
   ]
  }
 ],
 "metadata": {
  "kernelspec": {
   "display_name": "Python 3 (ipykernel)",
   "language": "python",
   "name": "python3"
  },
  "language_info": {
   "codemirror_mode": {
    "name": "ipython",
    "version": 3
   },
   "file_extension": ".py",
   "mimetype": "text/x-python",
   "name": "python",
   "nbconvert_exporter": "python",
   "pygments_lexer": "ipython3",
   "version": "3.11.1"
  }
 },
 "nbformat": 4,
 "nbformat_minor": 5
}
